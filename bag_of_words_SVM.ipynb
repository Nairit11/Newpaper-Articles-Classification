{
  "nbformat": 4,
  "nbformat_minor": 0,
  "metadata": {
    "colab": {
      "name": "bag_of_words_SVM.ipynb",
      "version": "0.3.2",
      "provenance": []
    },
    "kernelspec": {
      "name": "python2",
      "display_name": "Python 2"
    }
  },
  "cells": [
    {
      "metadata": {
        "id": "dMXIEjOha_yO",
        "colab_type": "code",
        "colab": {}
      },
      "cell_type": "code",
      "source": [
        "import numpy as np\n",
        "from sklearn.datasets import fetch_20newsgroups\n",
        "train = fetch_20newsgroups(subset='train', shuffle=True)\n",
        "test = fetch_20newsgroups(subset='test', shuffle=True)"
      ],
      "execution_count": 0,
      "outputs": []
    },
    {
      "metadata": {
        "id": "N2rpg11qbXUB",
        "colab_type": "code",
        "colab": {
          "base_uri": "https://localhost:8080/",
          "height": 364
        },
        "outputId": "aebb2207-c297-4c7a-c11b-559bb79d03d9"
      },
      "cell_type": "code",
      "source": [
        "#print((train.data[0]))\n",
        "#print((test.data[0]))\n",
        "#train.target_names\n",
        "#train.target"
      ],
      "execution_count": 4,
      "outputs": [
        {
          "output_type": "execute_result",
          "data": {
            "text/plain": [
              "['alt.atheism',\n",
              " 'comp.graphics',\n",
              " 'comp.os.ms-windows.misc',\n",
              " 'comp.sys.ibm.pc.hardware',\n",
              " 'comp.sys.mac.hardware',\n",
              " 'comp.windows.x',\n",
              " 'misc.forsale',\n",
              " 'rec.autos',\n",
              " 'rec.motorcycles',\n",
              " 'rec.sport.baseball',\n",
              " 'rec.sport.hockey',\n",
              " 'sci.crypt',\n",
              " 'sci.electronics',\n",
              " 'sci.med',\n",
              " 'sci.space',\n",
              " 'soc.religion.christian',\n",
              " 'talk.politics.guns',\n",
              " 'talk.politics.mideast',\n",
              " 'talk.politics.misc',\n",
              " 'talk.religion.misc']"
            ]
          },
          "metadata": {
            "tags": []
          },
          "execution_count": 4
        }
      ]
    },
    {
      "metadata": {
        "id": "-gyAMRxUdIqw",
        "colab_type": "code",
        "colab": {
          "base_uri": "https://localhost:8080/",
          "height": 935
        },
        "outputId": "c904f520-fb14-43fa-c020-3e4c010ea36c"
      },
      "cell_type": "code",
      "source": [
        "from sklearn.feature_extraction.text import CountVectorizer\n",
        "count_vect = CountVectorizer()\n",
        "X_train_counts = count_vect.fit_transform(train.data)\n",
        "print X_train_counts[0]\n",
        "#count_vect.vocabulary_\n",
        "#X_train_counts.shape\n",
        "#count_vect.get_feature_names()"
      ],
      "execution_count": 7,
      "outputs": [
        {
          "output_type": "stream",
          "text": [
            "  (0, 86580)\t1\n",
            "  (0, 128420)\t1\n",
            "  (0, 35983)\t1\n",
            "  (0, 35187)\t1\n",
            "  (0, 66098)\t1\n",
            "  (0, 114428)\t1\n",
            "  (0, 78955)\t1\n",
            "  (0, 94362)\t1\n",
            "  (0, 76722)\t1\n",
            "  (0, 57308)\t1\n",
            "  (0, 62221)\t1\n",
            "  (0, 128402)\t2\n",
            "  (0, 67156)\t1\n",
            "  (0, 123989)\t1\n",
            "  (0, 90252)\t1\n",
            "  (0, 63363)\t1\n",
            "  (0, 78784)\t1\n",
            "  (0, 96144)\t1\n",
            "  (0, 128026)\t1\n",
            "  (0, 109271)\t1\n",
            "  (0, 51730)\t1\n",
            "  (0, 86001)\t1\n",
            "  (0, 83256)\t1\n",
            "  (0, 113986)\t1\n",
            "  (0, 37565)\t1\n",
            "  :\t:\n",
            "  (0, 4605)\t1\n",
            "  (0, 76032)\t1\n",
            "  (0, 92081)\t1\n",
            "  (0, 40998)\t1\n",
            "  (0, 79666)\t1\n",
            "  (0, 89362)\t3\n",
            "  (0, 118983)\t1\n",
            "  (0, 90379)\t1\n",
            "  (0, 98949)\t1\n",
            "  (0, 64095)\t1\n",
            "  (0, 95162)\t1\n",
            "  (0, 87620)\t1\n",
            "  (0, 114731)\t5\n",
            "  (0, 68532)\t3\n",
            "  (0, 37780)\t5\n",
            "  (0, 123984)\t1\n",
            "  (0, 111322)\t1\n",
            "  (0, 114688)\t1\n",
            "  (0, 85354)\t1\n",
            "  (0, 124031)\t2\n",
            "  (0, 50527)\t2\n",
            "  (0, 118280)\t2\n",
            "  (0, 123162)\t2\n",
            "  (0, 75358)\t2\n",
            "  (0, 56979)\t3\n"
          ],
          "name": "stdout"
        }
      ]
    },
    {
      "metadata": {
        "id": "6qD6Pught6mY",
        "colab_type": "code",
        "colab": {
          "base_uri": "https://localhost:8080/",
          "height": 935
        },
        "outputId": "5cbc2367-a58f-4281-e016-daee74f480cb"
      },
      "cell_type": "code",
      "source": [
        "from sklearn.feature_extraction.text import TfidfTransformer\n",
        "tfidf_transformer = TfidfTransformer()\n",
        "X_train_tfidf = tfidf_transformer.fit_transform(X_train_counts)\n",
        "print X_train_tfidf[0]"
      ],
      "execution_count": 8,
      "outputs": [
        {
          "output_type": "stream",
          "text": [
            "  (0, 56979)\t0.0574701540748513\n",
            "  (0, 75358)\t0.3538350134970617\n",
            "  (0, 123162)\t0.25970902457356887\n",
            "  (0, 118280)\t0.21186807208281694\n",
            "  (0, 50527)\t0.05461428658858725\n",
            "  (0, 124031)\t0.10798795154169123\n",
            "  (0, 85354)\t0.03696978508816317\n",
            "  (0, 114688)\t0.06214070986309587\n",
            "  (0, 111322)\t0.019156718024950434\n",
            "  (0, 123984)\t0.036854292634593756\n",
            "  (0, 37780)\t0.3813389125949312\n",
            "  (0, 68532)\t0.07325812342131598\n",
            "  (0, 114731)\t0.1444727551278406\n",
            "  (0, 87620)\t0.0356718631408158\n",
            "  (0, 95162)\t0.03447138409326312\n",
            "  (0, 64095)\t0.035420924271313554\n",
            "  (0, 98949)\t0.16068606055394935\n",
            "  (0, 90379)\t0.01992885995664587\n",
            "  (0, 118983)\t0.03708597805061915\n",
            "  (0, 89362)\t0.06521174306303765\n",
            "  (0, 79666)\t0.10936401252414275\n",
            "  (0, 40998)\t0.07801368196918111\n",
            "  (0, 92081)\t0.09913274493911224\n",
            "  (0, 76032)\t0.01921946305222309\n",
            "  (0, 4605)\t0.06332603952480324\n",
            "  :\t:\n",
            "  (0, 37565)\t0.03431760442478462\n",
            "  (0, 113986)\t0.17691750674853085\n",
            "  (0, 83256)\t0.08844382496462175\n",
            "  (0, 86001)\t0.07000411445838192\n",
            "  (0, 51730)\t0.09714744057976724\n",
            "  (0, 109271)\t0.10844724822064675\n",
            "  (0, 128026)\t0.06062209588975889\n",
            "  (0, 96144)\t0.10826904490745742\n",
            "  (0, 78784)\t0.0633940918806495\n",
            "  (0, 63363)\t0.08342748387969037\n",
            "  (0, 90252)\t0.03188936879541757\n",
            "  (0, 123989)\t0.08207027465330355\n",
            "  (0, 67156)\t0.0731344392274018\n",
            "  (0, 128402)\t0.059222940832778424\n",
            "  (0, 62221)\t0.029215279924278678\n",
            "  (0, 57308)\t0.15587170091577043\n",
            "  (0, 76722)\t0.06908779999621749\n",
            "  (0, 94362)\t0.05545703139014723\n",
            "  (0, 78955)\t0.059898568880615996\n",
            "  (0, 114428)\t0.05511105154696677\n",
            "  (0, 66098)\t0.09785515708314482\n",
            "  (0, 35187)\t0.09353930598317126\n",
            "  (0, 35983)\t0.037704485636198756\n",
            "  (0, 128420)\t0.042784990792830935\n",
            "  (0, 86580)\t0.1315711871424099\n"
          ],
          "name": "stdout"
        }
      ]
    },
    {
      "metadata": {
        "id": "5HAIyQLAueci",
        "colab_type": "code",
        "colab": {
          "base_uri": "https://localhost:8080/",
          "height": 35
        },
        "outputId": "eb393fa2-4c83-4f34-ff22-bfff0f49982a"
      },
      "cell_type": "code",
      "source": [
        "from sklearn.pipeline import Pipeline\n",
        "from sklearn.linear_model import SGDClassifier\n",
        "text_clf = Pipeline([('vect', CountVectorizer()),\n",
        "                     ('tfidf', TfidfTransformer()),\n",
        "                     ('clf', SGDClassifier())])\n",
        "text_clf.fit(train.data, train.target)\n",
        "predicted = text_clf.predict(test.data)\n",
        "np.mean(predicted == test.target)"
      ],
      "execution_count": 10,
      "outputs": [
        {
          "output_type": "execute_result",
          "data": {
            "text/plain": [
              "0.8511683483802442"
            ]
          },
          "metadata": {
            "tags": []
          },
          "execution_count": 10
        }
      ]
    },
    {
      "metadata": {
        "id": "oEOcMTv_xeEf",
        "colab_type": "code",
        "colab": {
          "base_uri": "https://localhost:8080/",
          "height": 35
        },
        "outputId": "6df23e69-d1d0-4cd6-aa6c-c05fff381aa8"
      },
      "cell_type": "code",
      "source": [
        "print predicted[0:20]"
      ],
      "execution_count": 0,
      "outputs": [
        {
          "output_type": "stream",
          "text": [
            "[ 7  1  0 17  0 13 15  2  5  1  2  1 17  8 15  3  2  1  6 16]\n"
          ],
          "name": "stdout"
        }
      ]
    }
  ]
}